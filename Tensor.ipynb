{
  "nbformat": 4,
  "nbformat_minor": 0,
  "metadata": {
    "colab": {
      "provenance": [],
      "authorship_tag": "ABX9TyPfTDm8tyObS3aaZZv4jHRL",
      "include_colab_link": true
    },
    "kernelspec": {
      "name": "python3",
      "display_name": "Python 3"
    },
    "language_info": {
      "name": "python"
    }
  },
  "cells": [
    {
      "cell_type": "markdown",
      "metadata": {
        "id": "view-in-github",
        "colab_type": "text"
      },
      "source": [
        "<a href=\"https://colab.research.google.com/github/hyounghe0724/StartPytorch/blob/main/Tensor.ipynb\" target=\"_parent\"><img src=\"https://colab.research.google.com/assets/colab-badge.svg\" alt=\"Open In Colab\"/></a>"
      ]
    },
    {
      "cell_type": "code",
      "execution_count": null,
      "metadata": {
        "id": "GO_yHFzsvgFe"
      },
      "outputs": [],
      "source": []
    },
    {
      "cell_type": "code",
      "source": [
        "import torch\n",
        "import numpy as np\n"
      ],
      "metadata": {
        "id": "UWLB-21nvnC-"
      },
      "execution_count": 1,
      "outputs": []
    },
    {
      "cell_type": "code",
      "source": [
        "# 빈 텐서 생성\n",
        "x = torch.empty(5,4) # 5 by 4\n",
        "print(x) # 초기화 되지 않으면 랜덤 값"
      ],
      "metadata": {
        "colab": {
          "base_uri": "https://localhost:8080/"
        },
        "id": "qCZBMIqLvrAz",
        "outputId": "95a6bbf5-f0c1-41a2-b678-58a17e02e75b"
      },
      "execution_count": 2,
      "outputs": [
        {
          "output_type": "stream",
          "name": "stdout",
          "text": [
            "tensor([[7.1450e-13, 4.3394e-41, 7.1450e-13, 4.3394e-41],\n",
            "        [0.0000e+00, 0.0000e+00, 0.0000e+00, 0.0000e+00],\n",
            "        [3.3631e-44, 1.5766e-19, 3.0725e-18, 4.3394e-41],\n",
            "        [1.4013e-45, 0.0000e+00, 2.8026e-45, 1.4013e-45],\n",
            "        [2.8026e-45, 5.6052e-45, 2.8026e-45, 1.2612e-44]])\n"
          ]
        }
      ]
    },
    {
      "cell_type": "code",
      "source": [
        "torch.ones(3,3)"
      ],
      "metadata": {
        "colab": {
          "base_uri": "https://localhost:8080/"
        },
        "id": "ff5OEgtdv3US",
        "outputId": "56cbd4ed-74aa-4c4e-ac23-86d94835d3c2"
      },
      "execution_count": 3,
      "outputs": [
        {
          "output_type": "execute_result",
          "data": {
            "text/plain": [
              "tensor([[1., 1., 1.],\n",
              "        [1., 1., 1.],\n",
              "        [1., 1., 1.]])"
            ]
          },
          "metadata": {},
          "execution_count": 3
        }
      ]
    },
    {
      "cell_type": "code",
      "source": [
        "torch.zeros(2)"
      ],
      "metadata": {
        "colab": {
          "base_uri": "https://localhost:8080/"
        },
        "id": "AFYOeShOv65J",
        "outputId": "4dd8055d-23ab-4d02-a1bc-4ccb31efc39d"
      },
      "execution_count": 4,
      "outputs": [
        {
          "output_type": "execute_result",
          "data": {
            "text/plain": [
              "tensor([0., 0.])"
            ]
          },
          "metadata": {},
          "execution_count": 4
        }
      ]
    },
    {
      "cell_type": "code",
      "source": [
        "torch.rand(5,6)"
      ],
      "metadata": {
        "colab": {
          "base_uri": "https://localhost:8080/"
        },
        "id": "qcdSRZd9v--2",
        "outputId": "66e7fa4e-7be5-4ddb-b821-9fc87ed8aa8b"
      },
      "execution_count": 5,
      "outputs": [
        {
          "output_type": "execute_result",
          "data": {
            "text/plain": [
              "tensor([[0.5560, 0.8059, 0.6717, 0.8009, 0.2450, 0.1663],\n",
              "        [0.5830, 0.2677, 0.1063, 0.2245, 0.3831, 0.9669],\n",
              "        [0.8449, 0.8799, 0.5951, 0.3128, 0.8708, 0.9397],\n",
              "        [0.8126, 0.0088, 0.4005, 0.5880, 0.8457, 0.8992],\n",
              "        [0.4126, 0.5893, 0.4768, 0.4305, 0.5286, 0.9836]])"
            ]
          },
          "metadata": {},
          "execution_count": 5
        }
      ]
    },
    {
      "cell_type": "code",
      "source": [
        "l = [13,4]\n",
        "r = np.array([4,56,7])\n",
        "\n",
        "torch.tensor(l)"
      ],
      "metadata": {
        "colab": {
          "base_uri": "https://localhost:8080/"
        },
        "id": "MsidbZeJwB-0",
        "outputId": "53010f85-059f-4a5c-8a2c-8fa3df14f2d2"
      },
      "execution_count": 6,
      "outputs": [
        {
          "output_type": "execute_result",
          "data": {
            "text/plain": [
              "tensor([13,  4])"
            ]
          },
          "metadata": {},
          "execution_count": 6
        }
      ]
    },
    {
      "cell_type": "code",
      "source": [
        "torch.tensor(r)"
      ],
      "metadata": {
        "colab": {
          "base_uri": "https://localhost:8080/"
        },
        "id": "Z9RnmYV-wRZo",
        "outputId": "e466046e-846d-4c1c-d467-9d2664167f7a"
      },
      "execution_count": 7,
      "outputs": [
        {
          "output_type": "execute_result",
          "data": {
            "text/plain": [
              "tensor([ 4, 56,  7])"
            ]
          },
          "metadata": {},
          "execution_count": 7
        }
      ]
    },
    {
      "cell_type": "code",
      "source": [
        "torch.FloatTensor(r)"
      ],
      "metadata": {
        "colab": {
          "base_uri": "https://localhost:8080/"
        },
        "id": "bjLg-FL-wT-s",
        "outputId": "976090c3-8924-46f4-9acf-55a83cc5aeb2"
      },
      "execution_count": 11,
      "outputs": [
        {
          "output_type": "execute_result",
          "data": {
            "text/plain": [
              "tensor([ 4., 56.,  7.])"
            ]
          },
          "metadata": {},
          "execution_count": 11
        }
      ]
    },
    {
      "cell_type": "code",
      "source": [
        "x.size()"
      ],
      "metadata": {
        "colab": {
          "base_uri": "https://localhost:8080/"
        },
        "id": "1HFYBvzKwVnt",
        "outputId": "97c329f9-d0ca-49ac-aa8e-22ab159e6e9d"
      },
      "execution_count": 21,
      "outputs": [
        {
          "output_type": "execute_result",
          "data": {
            "text/plain": [
              "torch.Size([5, 4])"
            ]
          },
          "metadata": {},
          "execution_count": 21
        }
      ]
    },
    {
      "cell_type": "code",
      "source": [
        "print(x.shape)\n"
      ],
      "metadata": {
        "colab": {
          "base_uri": "https://localhost:8080/"
        },
        "id": "OQ7pFgqOwjWD",
        "outputId": "c914a572-aa9f-40b0-9509-afcac843de1d"
      },
      "execution_count": 22,
      "outputs": [
        {
          "output_type": "stream",
          "name": "stdout",
          "text": [
            "torch.Size([5, 4])\n"
          ]
        }
      ]
    },
    {
      "cell_type": "code",
      "source": [
        "x = torch.rand(2,2)\n",
        "y = torch.rand(2,2)\n",
        "\n",
        "print(x)\n",
        "print(y)\n"
      ],
      "metadata": {
        "colab": {
          "base_uri": "https://localhost:8080/"
        },
        "id": "c8-S9dr-w0PZ",
        "outputId": "e9f53306-a0be-43ae-a5a5-3e8a9b35e083"
      },
      "execution_count": 23,
      "outputs": [
        {
          "output_type": "stream",
          "name": "stdout",
          "text": [
            "tensor([[0.3727, 0.2354],\n",
            "        [0.2172, 0.9224]])\n",
            "tensor([[0.3952, 0.1766],\n",
            "        [0.5207, 0.3768]])\n"
          ]
        }
      ]
    },
    {
      "cell_type": "code",
      "source": [
        "x+y"
      ],
      "metadata": {
        "colab": {
          "base_uri": "https://localhost:8080/"
        },
        "id": "p3jae-hQw6Bx",
        "outputId": "4115f3af-ca66-472c-88cd-39d95be77644"
      },
      "execution_count": 24,
      "outputs": [
        {
          "output_type": "execute_result",
          "data": {
            "text/plain": [
              "tensor([[0.7680, 0.4120],\n",
              "        [0.7378, 1.2992]])"
            ]
          },
          "metadata": {},
          "execution_count": 24
        }
      ]
    },
    {
      "cell_type": "code",
      "source": [
        "torch.add(x,y)"
      ],
      "metadata": {
        "colab": {
          "base_uri": "https://localhost:8080/"
        },
        "id": "NsgD_wCmw7ix",
        "outputId": "e374b7aa-2a15-4200-a297-36fa2f730eeb"
      },
      "execution_count": 25,
      "outputs": [
        {
          "output_type": "execute_result",
          "data": {
            "text/plain": [
              "tensor([[0.7680, 0.4120],\n",
              "        [0.7378, 1.2992]])"
            ]
          },
          "metadata": {},
          "execution_count": 25
        }
      ]
    },
    {
      "cell_type": "code",
      "source": [
        "y.add(x)"
      ],
      "metadata": {
        "colab": {
          "base_uri": "https://localhost:8080/"
        },
        "id": "MyYm2sEFw-jy",
        "outputId": "68c668c6-5a2f-4e22-a632-b454aec907f3"
      },
      "execution_count": 26,
      "outputs": [
        {
          "output_type": "execute_result",
          "data": {
            "text/plain": [
              "tensor([[0.7680, 0.4120],\n",
              "        [0.7378, 1.2992]])"
            ]
          },
          "metadata": {},
          "execution_count": 26
        }
      ]
    },
    {
      "cell_type": "code",
      "source": [
        "# y.add_(x) => y = y + x  inplace 방식"
      ],
      "metadata": {
        "id": "_NRL0YpWxB4I"
      },
      "execution_count": 27,
      "outputs": []
    },
    {
      "cell_type": "code",
      "source": [
        "x = torch.rand(8,8)\n",
        "x\n",
        "print(x.size())"
      ],
      "metadata": {
        "colab": {
          "base_uri": "https://localhost:8080/"
        },
        "id": "hPDV8M_xxMhp",
        "outputId": "bab43731-8e3c-4f0c-dfa2-9b77c5310f60"
      },
      "execution_count": 32,
      "outputs": [
        {
          "output_type": "stream",
          "name": "stdout",
          "text": [
            "torch.Size([8, 8])\n"
          ]
        }
      ]
    },
    {
      "cell_type": "code",
      "source": [
        "a = x.view(64)\n",
        "print(a)\n",
        "a.shape"
      ],
      "metadata": {
        "colab": {
          "base_uri": "https://localhost:8080/"
        },
        "id": "aR1P7VESxQGz",
        "outputId": "781e90da-dc17-4289-9a10-69c964b2466b"
      },
      "execution_count": 34,
      "outputs": [
        {
          "output_type": "stream",
          "name": "stdout",
          "text": [
            "tensor([0.7248, 0.3994, 0.6343, 0.4381, 0.1002, 0.5859, 0.4027, 0.8647, 0.2735,\n",
            "        0.7656, 0.2086, 0.3081, 0.8099, 0.5897, 0.0094, 0.7705, 0.9202, 0.1921,\n",
            "        0.9342, 0.4766, 0.1257, 0.3754, 0.9993, 0.8255, 0.6832, 0.6648, 0.8283,\n",
            "        0.8146, 0.6561, 0.8298, 0.3875, 0.2461, 0.2253, 0.0514, 0.1835, 0.7604,\n",
            "        0.8801, 0.9880, 0.2077, 0.9987, 0.0202, 0.9781, 0.5480, 0.5478, 0.4344,\n",
            "        0.8494, 0.8341, 0.1399, 0.2135, 0.1678, 0.9701, 0.9871, 0.6350, 0.1533,\n",
            "        0.0577, 0.1111, 0.8242, 0.5191, 0.1819, 0.5396, 0.9496, 0.7812, 0.9326,\n",
            "        0.9096])\n"
          ]
        },
        {
          "output_type": "execute_result",
          "data": {
            "text/plain": [
              "torch.Size([64])"
            ]
          },
          "metadata": {},
          "execution_count": 34
        }
      ]
    },
    {
      "cell_type": "code",
      "source": [
        "b = x.view(-1, 4,4) # -1은 원래 크기가 되게 하는 값 8by8 -> -1by4by4 즉, 444이다\n",
        "# 4 by 4를 채우고 나머지는 원래의 값을 알맞게 자동으로 채워줌\n",
        "print(b.size())\n",
        "print(b)"
      ],
      "metadata": {
        "colab": {
          "base_uri": "https://localhost:8080/"
        },
        "id": "Aa89LLBAxTve",
        "outputId": "49ee044c-6b95-47f1-c45a-d4fd79cb2633"
      },
      "execution_count": 35,
      "outputs": [
        {
          "output_type": "stream",
          "name": "stdout",
          "text": [
            "torch.Size([4, 4, 4])\n",
            "tensor([[[0.7248, 0.3994, 0.6343, 0.4381],\n",
            "         [0.1002, 0.5859, 0.4027, 0.8647],\n",
            "         [0.2735, 0.7656, 0.2086, 0.3081],\n",
            "         [0.8099, 0.5897, 0.0094, 0.7705]],\n",
            "\n",
            "        [[0.9202, 0.1921, 0.9342, 0.4766],\n",
            "         [0.1257, 0.3754, 0.9993, 0.8255],\n",
            "         [0.6832, 0.6648, 0.8283, 0.8146],\n",
            "         [0.6561, 0.8298, 0.3875, 0.2461]],\n",
            "\n",
            "        [[0.2253, 0.0514, 0.1835, 0.7604],\n",
            "         [0.8801, 0.9880, 0.2077, 0.9987],\n",
            "         [0.0202, 0.9781, 0.5480, 0.5478],\n",
            "         [0.4344, 0.8494, 0.8341, 0.1399]],\n",
            "\n",
            "        [[0.2135, 0.1678, 0.9701, 0.9871],\n",
            "         [0.6350, 0.1533, 0.0577, 0.1111],\n",
            "         [0.8242, 0.5191, 0.1819, 0.5396],\n",
            "         [0.9496, 0.7812, 0.9326, 0.9096]]])\n"
          ]
        }
      ]
    },
    {
      "cell_type": "code",
      "source": [
        "x = torch.rand(8,8)\n",
        "y = x.numpy()\n",
        "print(y)\n",
        "type(y)"
      ],
      "metadata": {
        "colab": {
          "base_uri": "https://localhost:8080/"
        },
        "id": "bb9XGUPQx1p8",
        "outputId": "81b1dc3d-cde5-405b-d024-596ef9d45b9f"
      },
      "execution_count": 37,
      "outputs": [
        {
          "output_type": "stream",
          "name": "stdout",
          "text": [
            "[[1.5081906e-01 7.8949416e-01 9.8189801e-01 3.4242272e-03 1.6137815e-01\n",
            "  2.3695159e-01 3.4994793e-01 6.9549686e-01]\n",
            " [2.0519906e-01 5.6955636e-01 8.4937084e-01 5.1737863e-01 5.9120387e-01\n",
            "  6.0125160e-01 2.7293456e-01 3.8968652e-01]\n",
            " [8.3305633e-01 4.3830746e-01 9.2330199e-01 9.1320562e-01 7.1404713e-01\n",
            "  9.4538212e-01 2.8892595e-01 6.3356107e-01]\n",
            " [4.7501463e-01 7.6059210e-01 5.7166398e-02 6.7555737e-01 2.5100464e-01\n",
            "  4.4222027e-01 3.0639768e-01 8.3496732e-01]\n",
            " [5.8414936e-01 5.4767162e-01 5.8557248e-01 4.0945429e-01 4.8458576e-04\n",
            "  8.0770612e-01 3.7750840e-02 5.9383351e-01]\n",
            " [1.7811775e-01 7.9067242e-01 7.0757610e-01 3.1197250e-02 5.3138274e-01\n",
            "  5.7303023e-01 2.1320832e-01 9.2719328e-01]\n",
            " [4.8100841e-01 5.0542390e-01 1.2576640e-02 8.4487373e-01 6.7338347e-01\n",
            "  9.6671140e-01 1.3048905e-01 1.7401153e-01]\n",
            " [7.1321404e-01 6.3329536e-01 1.5040272e-01 3.7442535e-01 7.9128492e-01\n",
            "  1.0136646e-01 4.8757982e-01 1.3775378e-01]]\n"
          ]
        },
        {
          "output_type": "execute_result",
          "data": {
            "text/plain": [
              "numpy.ndarray"
            ]
          },
          "metadata": {},
          "execution_count": 37
        }
      ]
    },
    {
      "cell_type": "code",
      "source": [
        "loss = torch.ones(1)"
      ],
      "metadata": {
        "id": "lVElSfz3yK2H"
      },
      "execution_count": 38,
      "outputs": []
    },
    {
      "cell_type": "code",
      "source": [
        "print(loss)\n",
        "print(loss.item()) # 값만  보ㄹ여 줄 수 있다"
      ],
      "metadata": {
        "colab": {
          "base_uri": "https://localhost:8080/"
        },
        "id": "nhs6MUuEyQhy",
        "outputId": "5a07aa30-1b43-4a63-f730-04eccc58d57e"
      },
      "execution_count": 40,
      "outputs": [
        {
          "output_type": "stream",
          "name": "stdout",
          "text": [
            "tensor([1.])\n",
            "1.0\n"
          ]
        }
      ]
    },
    {
      "cell_type": "code",
      "source": [],
      "metadata": {
        "id": "fgl8dGL7yVtu"
      },
      "execution_count": null,
      "outputs": []
    }
  ]
}