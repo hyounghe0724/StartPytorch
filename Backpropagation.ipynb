{
  "nbformat": 4,
  "nbformat_minor": 0,
  "metadata": {
    "colab": {
      "provenance": [],
      "authorship_tag": "ABX9TyOzabwg+H+Gy5muLtTqDWsL",
      "include_colab_link": true
    },
    "kernelspec": {
      "name": "python3",
      "display_name": "Python 3"
    },
    "language_info": {
      "name": "python"
    }
  },
  "cells": [
    {
      "cell_type": "markdown",
      "metadata": {
        "id": "view-in-github",
        "colab_type": "text"
      },
      "source": [
        "<a href=\"https://colab.research.google.com/github/hyounghe0724/StartPytorch/blob/main/Backpropagation.ipynb\" target=\"_parent\"><img src=\"https://colab.research.google.com/assets/colab-badge.svg\" alt=\"Open In Colab\"/></a>"
      ]
    },
    {
      "cell_type": "code",
      "execution_count": null,
      "metadata": {
        "id": "FmkPUy1OMC4A"
      },
      "outputs": [],
      "source": [
        "# loss function의 최솟값을 구하는 목표"
      ]
    },
    {
      "cell_type": "code",
      "source": [
        "import torch\n",
        "\n",
        "x = torch.ones(2,2,requires_grad=True)\n",
        "print(x)"
      ],
      "metadata": {
        "colab": {
          "base_uri": "https://localhost:8080/"
        },
        "id": "dLz1JEQLMHgd",
        "outputId": "ad7bd20d-dabd-4af2-b3a0-0fe47b94ded1"
      },
      "execution_count": null,
      "outputs": [
        {
          "output_type": "stream",
          "name": "stdout",
          "text": [
            "tensor([[1., 1.],\n",
            "        [1., 1.]], requires_grad=True)\n"
          ]
        }
      ]
    },
    {
      "cell_type": "markdown",
      "source": [
        "**자동 미분**"
      ],
      "metadata": {
        "id": "rifM4OxjM9HL"
      }
    },
    {
      "cell_type": "code",
      "source": [
        "y = x + 1"
      ],
      "metadata": {
        "id": "nFa0LAmfMbK4"
      },
      "execution_count": null,
      "outputs": []
    },
    {
      "cell_type": "code",
      "source": [
        "z = 2*y**2\n",
        "res = z.mean() # 평균\n",
        "print(\"y=\", y)\n",
        "print(\"z=\", z)\n",
        "print(\"Result = \", res)\n",
        "#grad_fn 은 추적이 잘 되고 있다는 의미"
      ],
      "metadata": {
        "colab": {
          "base_uri": "https://localhost:8080/"
        },
        "id": "NT94I-JtMWHN",
        "outputId": "e2f3df2a-6370-4dfe-c852-e441e4d737d7"
      },
      "execution_count": null,
      "outputs": [
        {
          "output_type": "stream",
          "name": "stdout",
          "text": [
            "y= tensor([[2., 2.],\n",
            "        [2., 2.]], grad_fn=<AddBackward0>)\n",
            "z= tensor([[8., 8.],\n",
            "        [8., 8.]], grad_fn=<MulBackward0>)\n",
            "Result =  tensor(8., grad_fn=<MeanBackward0>)\n"
          ]
        }
      ]
    },
    {
      "cell_type": "markdown",
      "source": [
        "**역전파**"
      ],
      "metadata": {
        "id": "Nu8QWhfcM_sD"
      }
    },
    {
      "cell_type": "code",
      "source": [
        "res.backward() # 기준을 정해주어야함, res를 기준으로 역전파를 진행\n",
        "\n",
        "# res = (z11 + z12 + ..) /4\n",
        "# z_i = 2 y_i ** 2\n",
        "# z_i = 2 (x_i+1) ** 2\n",
        "# d(res)/dx_i = x_i + 1"
      ],
      "metadata": {
        "id": "hinSdTipMWGh"
      },
      "execution_count": null,
      "outputs": []
    },
    {
      "cell_type": "code",
      "source": [
        "print(x)\n",
        "print(x.grad)"
      ],
      "metadata": {
        "colab": {
          "base_uri": "https://localhost:8080/"
        },
        "id": "TFZ-ohsWMVi0",
        "outputId": "1a25ece3-40d2-4739-ea6b-aa880b1d8f62"
      },
      "execution_count": null,
      "outputs": [
        {
          "output_type": "stream",
          "name": "stdout",
          "text": [
            "tensor([[1., 1.],\n",
            "        [1., 1.]], requires_grad=True)\n",
            "tensor([[2., 2.],\n",
            "        [2., 2.]])\n"
          ]
        }
      ]
    },
    {
      "cell_type": "code",
      "source": [],
      "metadata": {
        "id": "VCPTrh3lNv3w"
      },
      "execution_count": null,
      "outputs": []
    }
  ]
}