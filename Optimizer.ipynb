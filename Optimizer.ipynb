{
  "nbformat": 4,
  "nbformat_minor": 0,
  "metadata": {
    "colab": {
      "provenance": [],
      "authorship_tag": "ABX9TyMrVUj/mxwaSWHgCbBQUc41",
      "include_colab_link": true
    },
    "kernelspec": {
      "name": "python3",
      "display_name": "Python 3"
    },
    "language_info": {
      "name": "python"
    }
  },
  "cells": [
    {
      "cell_type": "markdown",
      "metadata": {
        "id": "view-in-github",
        "colab_type": "text"
      },
      "source": [
        "<a href=\"https://colab.research.google.com/github/hyounghe0724/StartPytorch/blob/main/Optimizer.ipynb\" target=\"_parent\"><img src=\"https://colab.research.google.com/assets/colab-badge.svg\" alt=\"Open In Colab\"/></a>"
      ]
    },
    {
      "cell_type": "code",
      "execution_count": 1,
      "metadata": {
        "id": "k_Q_w9mTD1nq"
      },
      "outputs": [],
      "source": [
        "import torch.optim as optim\n",
        "import torchvision\n"
      ]
    },
    {
      "cell_type": "code",
      "source": [
        "model = torchvision.models.resnet18(weights=None)\n"
      ],
      "metadata": {
        "id": "SJQEoqHTE7G5"
      },
      "execution_count": 2,
      "outputs": []
    },
    {
      "cell_type": "code",
      "source": [
        "#SGD\n",
        "optimizer = optim.SGD(model.parameters(), lr=0.01) # lr 고정"
      ],
      "metadata": {
        "id": "Bh2IGKlFE_RY"
      },
      "execution_count": 3,
      "outputs": []
    },
    {
      "cell_type": "code",
      "source": [
        "# Momentum 자주 사용\n",
        "optimizer = optim.SGD(model.parameters(), lr=1e-2, momentum=0.9)\n"
      ],
      "metadata": {
        "id": "gc547KNvFEqK"
      },
      "execution_count": 4,
      "outputs": []
    },
    {
      "cell_type": "code",
      "source": [
        "# Adam - Additive 자주 사용\n",
        "optimizer = optim.Adam(model.parameters(), lr=0.01)\n"
      ],
      "metadata": {
        "id": "enhYLIDuFP7C"
      },
      "execution_count": 5,
      "outputs": []
    },
    {
      "cell_type": "code",
      "source": [
        "# Scheduling\n",
        "optimizer = optim.SGD(model.parameters(), lr=1e-1, momentum=0.9)\n",
        "scheduler = optim.lr_scheduler.StepLR(optimizer, step_size=30, gamma=0.1)\n",
        "# Adam은 lr이 가변적이기 때문에 굳이 lr를 변경하는 스케쥴러를 사용할 필요 x\n",
        "# epoch이 30이 되면 lr에 gamma값을 곱해줌"
      ],
      "metadata": {
        "id": "qKLm8x_dFWiE"
      },
      "execution_count": 6,
      "outputs": []
    },
    {
      "cell_type": "code",
      "source": [
        "# 사용법\n",
        "...중략...\n",
        "\n",
        "for epoch in range(400):\n",
        "  running_late = 0.0\n",
        "  for data in trainloader:\n",
        "    inputs, values = data\n",
        "    optimizer.zero_grad()\n",
        "    outputs = model(inputs)\n",
        "    loss = criterion(outputs, values)\n",
        "    loss.backward() # 역전파 계산\n",
        "    optimizer.step() # 역전파 수행 및 가중치 업데이트\n",
        "\n",
        "    ...중략...\n",
        "  scheduler.step()\n"
      ],
      "metadata": {
        "id": "6wCyZqr-FzIQ"
      },
      "execution_count": null,
      "outputs": []
    }
  ]
}